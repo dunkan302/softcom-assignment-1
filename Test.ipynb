{
 "cells": [
  {
   "cell_type": "code",
   "execution_count": 39,
   "id": "productive-serbia",
   "metadata": {},
   "outputs": [
    {
     "name": "stdout",
     "output_type": "stream",
     "text": [
      "154 procured from Index\n",
      "59 procured from India\n",
      "58 procured from World\n",
      "108 procured from Business\n",
      "total: 379\n",
      "189  OK\n"
     ]
    }
   ],
   "source": [
    "import bs4,requests,os\n",
    "baseUrl='https://timesofindia.indiatimes.com/'\n",
    "pages={'':'Index','india':'India','world':'World','business':'Business'}\n",
    "def addToNote(url,title):\n",
    "    #This takes links and stores stuff in the notpad file\n",
    "    try:\n",
    "        write_title=title+'\\n'\n",
    "        ntext=''\n",
    "        write_date=''\n",
    "        url=url.strip()\n",
    "        content=requests.get(url)\n",
    "        soup=bs4.BeautifulSoup(content.text,'html.parser')\n",
    "        date=soup.find('div',{'class':'_3Mkg- byline'})\n",
    "        if date.text!=None:\n",
    "            write_date='Date: '+date.text[7:]+'\\n'\n",
    "        roughText=soup.find('div',{'class':'ga-headlines'})\n",
    "        ntext=roughText.text\n",
    "        f=open('%s.txt' %title,'w',encoding='utf-8')\n",
    "        f.writelines(write_title+write_date+ntext)\n",
    "        f.close()\n",
    "        return 1\n",
    "    except:\n",
    "#         print('check: \"',title,'\"')\n",
    "        return 0\n",
    "\n",
    "def getLinkList(res):\n",
    "    #This takes the section and collects all relevant links\n",
    "    #Populates a dictionary with link and title\n",
    "    soup=bs4.BeautifulSoup(res.text,'html.parser')\n",
    "    subText=soup.find('div',{'class':'main-content'})\n",
    "    if subText==None:\n",
    "        subText=soup.find('div',{'id':'content'})\n",
    "    mainTags=subText.findAll('a',{'class':None})\n",
    "    linkDict={}\n",
    "    for page in mainTags:\n",
    "        href=page.get('href')\n",
    "        if (href==None):\n",
    "            continue\n",
    "        if ('https://' not in href):\n",
    "            href=baseUrl+href\n",
    "        if ((\"photogallery\" not in href) and ('videos' not in href)):\n",
    "            linkDict[page.get(\"title\")]=href\n",
    "    return linkDict\n",
    "# res=requests.get('https://timesofindia.indiatimes.com/india')\n",
    "# dic=getLinkList(res)\n",
    "\n",
    "def netRunner():\n",
    "    count=0\n",
    "    actcount=0\n",
    "    cwd=os.getcwd()\n",
    "    if ('news' not in os.listdir()):\n",
    "        os.mkdir('news')\n",
    "    os.chdir('.//news')\n",
    "    for key in pages:\n",
    "        if (pages[key] not in os.listdir()):\n",
    "            os.mkdir(pages[key])\n",
    "    for i in pages:\n",
    "        os.chdir(cwd+'\\\\'+pages[i])\n",
    "        res=requests.get(baseUrl+i)\n",
    "        dic=getLinkList(res)\n",
    "        print(len(dic),'procured from',pages[i])\n",
    "        actcount+=len(dic)\n",
    "        for key in dic:\n",
    "            if (key!=None):\n",
    "                count+=addToNote(dic[key],key)\n",
    "    print ('total:',actcount)\n",
    "    print(count,' OK')\n",
    "    \n",
    "netRunner()"
   ]
  },
  {
   "cell_type": "code",
   "execution_count": 38,
   "id": "featured-major",
   "metadata": {},
   "outputs": [
    {
     "data": {
      "text/plain": [
       "'C:\\\\Users\\\\Pratham Kundan\\\\Desktop\\\\Directory\\\\Python\\\\Pyproj\\\\news'"
      ]
     },
     "execution_count": 38,
     "metadata": {},
     "output_type": "execute_result"
    }
   ],
   "source": [
    "os.getcwd()"
   ]
  },
  {
   "cell_type": "code",
   "execution_count": 35,
   "id": "unknown-worth",
   "metadata": {},
   "outputs": [],
   "source": [
    "os.chdir('..')"
   ]
  }
 ],
 "metadata": {
  "kernelspec": {
   "display_name": "Python 3",
   "language": "python",
   "name": "python3"
  },
  "language_info": {
   "codemirror_mode": {
    "name": "ipython",
    "version": 3
   },
   "file_extension": ".py",
   "mimetype": "text/x-python",
   "name": "python",
   "nbconvert_exporter": "python",
   "pygments_lexer": "ipython3",
   "version": "3.9.0"
  }
 },
 "nbformat": 4,
 "nbformat_minor": 5
}
