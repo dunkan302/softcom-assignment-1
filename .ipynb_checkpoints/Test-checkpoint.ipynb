{
 "cells": [
  {
   "cell_type": "code",
   "execution_count": 32,
   "id": "tracked-distance",
   "metadata": {},
   "outputs": [
    {
     "name": "stdout",
     "output_type": "stream",
     "text": [
      "154 procured from \n"
     ]
    },
    {
     "ename": "FileNotFoundError",
     "evalue": "[WinError 2] The system cannot find the file specified: 'C:\\\\Users\\\\Pratham Kundan\\\\Desktop\\\\Directory\\\\Python\\\\Pyproj\\\\news//india'",
     "output_type": "error",
     "traceback": [
      "\u001b[1;31m---------------------------------------------------------------------------\u001b[0m",
      "\u001b[1;31mFileNotFoundError\u001b[0m                         Traceback (most recent call last)",
      "\u001b[1;32m<ipython-input-32-1338ce370942>\u001b[0m in \u001b[0;36m<module>\u001b[1;34m\u001b[0m\n\u001b[0;32m     67\u001b[0m     \u001b[0mprint\u001b[0m\u001b[1;33m(\u001b[0m\u001b[0mcount\u001b[0m\u001b[1;33m,\u001b[0m\u001b[1;34m' OK'\u001b[0m\u001b[1;33m)\u001b[0m\u001b[1;33m\u001b[0m\u001b[1;33m\u001b[0m\u001b[0m\n\u001b[0;32m     68\u001b[0m \u001b[1;33m\u001b[0m\u001b[0m\n\u001b[1;32m---> 69\u001b[1;33m \u001b[0mnetRunner\u001b[0m\u001b[1;33m(\u001b[0m\u001b[1;33m)\u001b[0m\u001b[1;33m\u001b[0m\u001b[1;33m\u001b[0m\u001b[0m\n\u001b[0m",
      "\u001b[1;32m<ipython-input-32-1338ce370942>\u001b[0m in \u001b[0;36mnetRunner\u001b[1;34m()\u001b[0m\n\u001b[0;32m     56\u001b[0m             \u001b[0mos\u001b[0m\u001b[1;33m.\u001b[0m\u001b[0mmkdir\u001b[0m\u001b[1;33m(\u001b[0m\u001b[0mpages\u001b[0m\u001b[1;33m[\u001b[0m\u001b[0mkey\u001b[0m\u001b[1;33m]\u001b[0m\u001b[1;33m)\u001b[0m\u001b[1;33m\u001b[0m\u001b[1;33m\u001b[0m\u001b[0m\n\u001b[0;32m     57\u001b[0m     \u001b[1;32mfor\u001b[0m \u001b[0mi\u001b[0m \u001b[1;32min\u001b[0m \u001b[0mpages\u001b[0m\u001b[1;33m:\u001b[0m\u001b[1;33m\u001b[0m\u001b[1;33m\u001b[0m\u001b[0m\n\u001b[1;32m---> 58\u001b[1;33m         \u001b[0mos\u001b[0m\u001b[1;33m.\u001b[0m\u001b[0mchdir\u001b[0m\u001b[1;33m(\u001b[0m\u001b[0mcwd\u001b[0m\u001b[1;33m+\u001b[0m\u001b[1;34m'//'\u001b[0m\u001b[1;33m+\u001b[0m\u001b[0mi\u001b[0m\u001b[1;33m)\u001b[0m\u001b[1;33m\u001b[0m\u001b[1;33m\u001b[0m\u001b[0m\n\u001b[0m\u001b[0;32m     59\u001b[0m         \u001b[0mres\u001b[0m\u001b[1;33m=\u001b[0m\u001b[0mrequests\u001b[0m\u001b[1;33m.\u001b[0m\u001b[0mget\u001b[0m\u001b[1;33m(\u001b[0m\u001b[0mbaseUrl\u001b[0m\u001b[1;33m+\u001b[0m\u001b[0mi\u001b[0m\u001b[1;33m)\u001b[0m\u001b[1;33m\u001b[0m\u001b[1;33m\u001b[0m\u001b[0m\n\u001b[0;32m     60\u001b[0m         \u001b[0mdic\u001b[0m\u001b[1;33m=\u001b[0m\u001b[0mgetLinkList\u001b[0m\u001b[1;33m(\u001b[0m\u001b[0mres\u001b[0m\u001b[1;33m)\u001b[0m\u001b[1;33m\u001b[0m\u001b[1;33m\u001b[0m\u001b[0m\n",
      "\u001b[1;31mFileNotFoundError\u001b[0m: [WinError 2] The system cannot find the file specified: 'C:\\\\Users\\\\Pratham Kundan\\\\Desktop\\\\Directory\\\\Python\\\\Pyproj\\\\news//india'"
     ]
    }
   ],
   "source": [
    "import bs4,requests,os\n",
    "baseUrl='https://timesofindia.indiatimes.com/'\n",
    "pages={'':'Index','india':'India','world':'World','business':'Business'}\n",
    "def addToNote(url,title):\n",
    "    #This takes links and stores stuff in the notpad file\n",
    "    try:\n",
    "        write_title=title+'\\n'\n",
    "        ntext=''\n",
    "        write_date=''\n",
    "        url=url.strip()\n",
    "        content=requests.get(url)\n",
    "        soup=bs4.BeautifulSoup(content.text,'html.parser')\n",
    "        date=soup.find('div',{'class':'_3Mkg- byline'})\n",
    "        if date.text!=None:\n",
    "            write_date='Date: '+date.text[7:]+'\\n'\n",
    "        roughText=soup.find('div',{'class':'ga-headlines'})\n",
    "        ntext=roughText.text\n",
    "        f=open('%s.txt' %title,'w',encoding='utf-8')\n",
    "        f.writelines(write_title+write_date+ntext)\n",
    "        f.close()\n",
    "        return 1\n",
    "    except:\n",
    "#         print('check: \"',title,'\"')\n",
    "        return 0\n",
    "\n",
    "def getLinkList(res):\n",
    "    #This takes the section and collects all relevant links\n",
    "    #Populates a dictionary with link and title\n",
    "    soup=bs4.BeautifulSoup(res.text,'html.parser')\n",
    "    subText=soup.find('div',{'class':'main-content'})\n",
    "    if subText==None:\n",
    "        subText=soup.find('div',{'id':'content'})\n",
    "    mainTags=subText.findAll('a',{'class':None})\n",
    "    linkDict={}\n",
    "    for page in mainTags:\n",
    "        href=page.get('href')\n",
    "        if (href==None):\n",
    "            continue\n",
    "        if ('https://' not in href):\n",
    "            href=baseUrl+href\n",
    "        if ((\"photogallery\" not in href) and ('videos' not in href)):\n",
    "            linkDict[page.get(\"title\")]=href\n",
    "    return linkDict\n",
    "# res=requests.get('https://timesofindia.indiatimes.com/india')\n",
    "# dic=getLinkList(res)\n",
    "\n",
    "def netRunner():\n",
    "    count=0\n",
    "    actcount=0\n",
    "    cwd=os.getcwd()\n",
    "    if ('news' not in os.listdir()):\n",
    "        os.mkdir('news')\n",
    "    os.chdir('.//news')\n",
    "    for key in pages:\n",
    "        if (pages[key] not in os.listdir()):\n",
    "            os.mkdir(pages[key])\n",
    "    for i in pages:\n",
    "        os.chdir(cwd+'\\\\'+i)\n",
    "        res=requests.get(baseUrl+i)\n",
    "        dic=getLinkList(res)\n",
    "        print(len(dic),'procured from',i)\n",
    "        actcount+=len(dic)\n",
    "        for key in dic:\n",
    "            if (key!=None):\n",
    "                count+=addToNote(dic[key],key)\n",
    "    print ('total:',actcount)\n",
    "    print(count,' OK')\n",
    "    \n",
    "netRunner()"
   ]
  },
  {
   "cell_type": "code",
   "execution_count": 33,
   "id": "bulgarian-yukon",
   "metadata": {},
   "outputs": [
    {
     "data": {
      "text/plain": [
       "<function nt.getcwd()>"
      ]
     },
     "execution_count": 33,
     "metadata": {},
     "output_type": "execute_result"
    }
   ],
   "source": [
    "os.getcwd"
   ]
  },
  {
   "cell_type": "code",
   "execution_count": null,
   "id": "matched-winning",
   "metadata": {
    "collapsed": true
   },
   "outputs": [],
   "source": []
  }
 ],
 "metadata": {
  "kernelspec": {
   "display_name": "Python 3",
   "language": "python",
   "name": "python3"
  },
  "language_info": {
   "codemirror_mode": {
    "name": "ipython",
    "version": 3
   },
   "file_extension": ".py",
   "mimetype": "text/x-python",
   "name": "python",
   "nbconvert_exporter": "python",
   "pygments_lexer": "ipython3",
   "version": "3.9.0"
  }
 },
 "nbformat": 4,
 "nbformat_minor": 5
}
